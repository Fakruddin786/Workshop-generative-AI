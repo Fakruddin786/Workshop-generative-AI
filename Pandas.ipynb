{
 "cells": [
  {
   "cell_type": "code",
   "execution_count": 445,
   "metadata": {},
   "outputs": [
    {
     "data": {
      "text/plain": [
       "[2, 3, 4, 5, 6]"
      ]
     },
     "execution_count": 445,
     "metadata": {},
     "output_type": "execute_result"
    }
   ],
   "source": [
    "import pandas as pd\n",
    "data=[2,3,4,5,6,]\n",
    "data"
   ]
  },
  {
   "cell_type": "code",
   "execution_count": 446,
   "metadata": {},
   "outputs": [
    {
     "name": "stdout",
     "output_type": "stream",
     "text": [
      "   name              email  salary\n",
      "0  loki     loki@gmail.com  100000\n",
      "1   san     san2@gmail.com  200000\n",
      "2  mali  mali420@gmail.com  300000\n"
     ]
    }
   ],
   "source": [
    "import pandas as pd\n",
    "\n",
    "data = {\n",
    "  'name': [\"loki\", \"san\", \"mali\"],\n",
    "  'email':[\"loki@gmail.com\",\"san2@gmail.com\",\"mali420@gmail.com\"],\n",
    "  'salary':[\"100000\",\"200000\",\"300000\"]\n",
    "  }\n",
    "\n",
    "data_table = pd.DataFrame(data)\n",
    "print(data_table)\n"
   ]
  },
  {
   "cell_type": "code",
   "execution_count": 447,
   "metadata": {},
   "outputs": [
    {
     "data": {
      "text/html": [
       "<div>\n",
       "<style scoped>\n",
       "    .dataframe tbody tr th:only-of-type {\n",
       "        vertical-align: middle;\n",
       "    }\n",
       "\n",
       "    .dataframe tbody tr th {\n",
       "        vertical-align: top;\n",
       "    }\n",
       "\n",
       "    .dataframe thead th {\n",
       "        text-align: right;\n",
       "    }\n",
       "</style>\n",
       "<table border=\"1\" class=\"dataframe\">\n",
       "  <thead>\n",
       "    <tr style=\"text-align: right;\">\n",
       "      <th></th>\n",
       "      <th>name</th>\n",
       "      <th>email</th>\n",
       "      <th>salary</th>\n",
       "      <th>age</th>\n",
       "    </tr>\n",
       "  </thead>\n",
       "  <tbody>\n",
       "    <tr>\n",
       "      <th>0</th>\n",
       "      <td>loki</td>\n",
       "      <td>loki@gmail.com</td>\n",
       "      <td>100000</td>\n",
       "      <td>20</td>\n",
       "    </tr>\n",
       "    <tr>\n",
       "      <th>1</th>\n",
       "      <td>san</td>\n",
       "      <td>san2@gmail.com</td>\n",
       "      <td>200000</td>\n",
       "      <td>30</td>\n",
       "    </tr>\n",
       "    <tr>\n",
       "      <th>2</th>\n",
       "      <td>mali</td>\n",
       "      <td>mali420@gmail.com</td>\n",
       "      <td>300000</td>\n",
       "      <td>40</td>\n",
       "    </tr>\n",
       "  </tbody>\n",
       "</table>\n",
       "</div>"
      ],
      "text/plain": [
       "   name              email  salary  age\n",
       "0  loki     loki@gmail.com  100000   20\n",
       "1   san     san2@gmail.com  200000   30\n",
       "2  mali  mali420@gmail.com  300000   40"
      ]
     },
     "execution_count": 447,
     "metadata": {},
     "output_type": "execute_result"
    }
   ],
   "source": [
    "data_table[\"age\"]=[20,30,40]\n",
    "data_table"
   ]
  },
  {
   "cell_type": "code",
   "execution_count": 448,
   "metadata": {},
   "outputs": [
    {
     "data": {
      "text/html": [
       "<div>\n",
       "<style scoped>\n",
       "    .dataframe tbody tr th:only-of-type {\n",
       "        vertical-align: middle;\n",
       "    }\n",
       "\n",
       "    .dataframe tbody tr th {\n",
       "        vertical-align: top;\n",
       "    }\n",
       "\n",
       "    .dataframe thead th {\n",
       "        text-align: right;\n",
       "    }\n",
       "</style>\n",
       "<table border=\"1\" class=\"dataframe\">\n",
       "  <thead>\n",
       "    <tr style=\"text-align: right;\">\n",
       "      <th></th>\n",
       "      <th>name</th>\n",
       "      <th>email</th>\n",
       "      <th>salary</th>\n",
       "      <th>age</th>\n",
       "    </tr>\n",
       "  </thead>\n",
       "  <tbody>\n",
       "    <tr>\n",
       "      <th>2</th>\n",
       "      <td>mali</td>\n",
       "      <td>mali420@gmail.com</td>\n",
       "      <td>300000</td>\n",
       "      <td>40</td>\n",
       "    </tr>\n",
       "  </tbody>\n",
       "</table>\n",
       "</div>"
      ],
      "text/plain": [
       "   name              email  salary  age\n",
       "2  mali  mali420@gmail.com  300000   40"
      ]
     },
     "execution_count": 448,
     "metadata": {},
     "output_type": "execute_result"
    }
   ],
   "source": [
    "data_table[data_table[\"age\"]>30]\n"
   ]
  },
  {
   "cell_type": "code",
   "execution_count": 449,
   "metadata": {},
   "outputs": [
    {
     "data": {
      "text/html": [
       "<div>\n",
       "<style scoped>\n",
       "    .dataframe tbody tr th:only-of-type {\n",
       "        vertical-align: middle;\n",
       "    }\n",
       "\n",
       "    .dataframe tbody tr th {\n",
       "        vertical-align: top;\n",
       "    }\n",
       "\n",
       "    .dataframe thead th {\n",
       "        text-align: right;\n",
       "    }\n",
       "</style>\n",
       "<table border=\"1\" class=\"dataframe\">\n",
       "  <thead>\n",
       "    <tr style=\"text-align: right;\">\n",
       "      <th></th>\n",
       "      <th>age</th>\n",
       "    </tr>\n",
       "  </thead>\n",
       "  <tbody>\n",
       "    <tr>\n",
       "      <th>count</th>\n",
       "      <td>3.0</td>\n",
       "    </tr>\n",
       "    <tr>\n",
       "      <th>mean</th>\n",
       "      <td>30.0</td>\n",
       "    </tr>\n",
       "    <tr>\n",
       "      <th>std</th>\n",
       "      <td>10.0</td>\n",
       "    </tr>\n",
       "    <tr>\n",
       "      <th>min</th>\n",
       "      <td>20.0</td>\n",
       "    </tr>\n",
       "    <tr>\n",
       "      <th>25%</th>\n",
       "      <td>25.0</td>\n",
       "    </tr>\n",
       "    <tr>\n",
       "      <th>50%</th>\n",
       "      <td>30.0</td>\n",
       "    </tr>\n",
       "    <tr>\n",
       "      <th>75%</th>\n",
       "      <td>35.0</td>\n",
       "    </tr>\n",
       "    <tr>\n",
       "      <th>max</th>\n",
       "      <td>40.0</td>\n",
       "    </tr>\n",
       "  </tbody>\n",
       "</table>\n",
       "</div>"
      ],
      "text/plain": [
       "        age\n",
       "count   3.0\n",
       "mean   30.0\n",
       "std    10.0\n",
       "min    20.0\n",
       "25%    25.0\n",
       "50%    30.0\n",
       "75%    35.0\n",
       "max    40.0"
      ]
     },
     "execution_count": 449,
     "metadata": {},
     "output_type": "execute_result"
    }
   ],
   "source": [
    "data_table.describe()"
   ]
  },
  {
   "cell_type": "code",
   "execution_count": 450,
   "metadata": {},
   "outputs": [],
   "source": [
    "#sample green technology projcet data(dataframe)\n",
    "renewable_sources_sources=[\"solar\",\"wind\",\"hydrogen\",\"geothermal\",\"biomass\"]\n",
    "data={\n",
    "    \"project\":[\"solar farm A\",\"wind turbine X\",\"Hydrogen Y\",\"solar roof Z\",\"geothermal plant P\"],\n",
    "    \"Technology\":[\"solar\",\"wind\",\"hydrogen\",\"solar\",\"geothermal\"],\n",
    "    \"Capacity(MW)\":[150,300,200,50,100],\n",
    "    \"Cost(Million $)\":[200,400,350,100,250],\n",
    "    \"Location\":[\"california\",\"texas\",\"washington\",\"nevada\",\"idaho\"],\n",
    "    \"Completion Year\":[2023,2024,2022,2025,2023]\n",
    "}"
   ]
  },
  {
   "cell_type": "code",
   "execution_count": 451,
   "metadata": {},
   "outputs": [
    {
     "name": "stdout",
     "output_type": "stream",
     "text": [
      "\n",
      "Loki Technology Projects,DataFrame\n",
      "              project  Technology  Capacity(MW)  Cost(Million $)    Location  \\\n",
      "0        solar farm A       solar           150              200  california   \n",
      "1      wind turbine X        wind           300              400       texas   \n",
      "2          Hydrogen Y    hydrogen           200              350  washington   \n",
      "3        solar roof Z       solar            50              100      nevada   \n",
      "4  geothermal plant P  geothermal           100              250       idaho   \n",
      "\n",
      "   Completion Year  \n",
      "0             2023  \n",
      "1             2024  \n",
      "2             2022  \n",
      "3             2025  \n",
      "4             2023  \n"
     ]
    }
   ],
   "source": [
    "projects_df=pd.DataFrame(data)\n",
    "print(\"\\nLoki Technology Projects,DataFrame\")\n",
    "print(projects_df)"
   ]
  },
  {
   "cell_type": "code",
   "execution_count": 452,
   "metadata": {},
   "outputs": [
    {
     "name": "stdout",
     "output_type": "stream",
     "text": [
      "              project  Technology  Capacity(MW)  Cost(Million $)    Location  \\\n",
      "0        solar farm A       solar           150              200  california   \n",
      "1      wind turbine X        wind           300              400       texas   \n",
      "2          Hydrogen Y    hydrogen           200              350  washington   \n",
      "3        solar roof Z       solar            50              100      nevada   \n",
      "4  geothermal plant P  geothermal           100              250       idaho   \n",
      "\n",
      "   Completion Year  Cost per MW  \n",
      "0             2023     1.333333  \n",
      "1             2024     1.333333  \n",
      "2             2022     1.750000  \n",
      "3             2025     2.000000  \n",
      "4             2023     2.500000  \n"
     ]
    }
   ],
   "source": [
    "projects_df[\"Cost per MW\"]=projects_df[\"Cost(Million $)\"]/projects_df[\"Capacity(MW)\"]\n",
    "print(projects_df)"
   ]
  },
  {
   "cell_type": "code",
   "execution_count": 453,
   "metadata": {},
   "outputs": [
    {
     "name": "stdout",
     "output_type": "stream",
     "text": [
      "[1 2 3 4 5]\n"
     ]
    }
   ],
   "source": [
    "import numpy as np\n",
    "arr = np.array([1, 2, 3, 4, 5])\n",
    "print(arr)"
   ]
  },
  {
   "cell_type": "code",
   "execution_count": 454,
   "metadata": {},
   "outputs": [
    {
     "name": "stdout",
     "output_type": "stream",
     "text": [
      "this is 1d [0 0 0 0 0]\n",
      "this is 1d [1. 1. 1. 1. 1. 1. 1. 1. 1. 1.]\n",
      "this is 2d\n",
      "[[0. 0. 0. 0.]\n",
      " [0. 0. 0. 0.]\n",
      " [0. 0. 0. 0.]\n",
      " [0. 0. 0. 0.]\n",
      " [0. 0. 0. 0.]]\n",
      "[1 9 7 0 9]\n"
     ]
    }
   ],
   "source": [
    "print(\"this is 1d\",np.zeros(5).astype(int))\n",
    "print(\"this is 1d\",np.ones(10))\n",
    "print(\"this is 2d\")\n",
    "print(np.zeros((5,4)))\n",
    "print(np.random.randint(0,10,5))"
   ]
  }
 ],
 "metadata": {
  "kernelspec": {
   "display_name": "Python 3",
   "language": "python",
   "name": "python3"
  },
  "language_info": {
   "codemirror_mode": {
    "name": "ipython",
    "version": 3
   },
   "file_extension": ".py",
   "mimetype": "text/x-python",
   "name": "python",
   "nbconvert_exporter": "python",
   "pygments_lexer": "ipython3",
   "version": "3.12.6"
  }
 },
 "nbformat": 4,
 "nbformat_minor": 2
}
